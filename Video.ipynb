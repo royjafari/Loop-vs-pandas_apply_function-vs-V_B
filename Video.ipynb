{
 "cells": [
  {
   "cell_type": "markdown",
   "id": "3bdb7bc9",
   "metadata": {},
   "source": [
    "## Python Data Manipulation Modules\n",
    "Learn how to manipulate data using Numpy and Pandas\n",
    "    \n",
    "    AUTHOR: Dr. Roy Jafari \n",
    "\n",
    "### Video 6: Code Optimization - Loop, apply, and V&B"
   ]
  },
  {
   "cell_type": "code",
   "execution_count": 4,
   "id": "bd6b934d",
   "metadata": {},
   "outputs": [],
   "source": [
    "import numpy as np\n",
    "import pandas as pd"
   ]
  },
  {
   "cell_type": "code",
   "execution_count": 5,
   "id": "16bfef80",
   "metadata": {},
   "outputs": [],
   "source": [
    "n = 30000\n",
    "person_df = pd.DataFrame(index=range(n), columns=['Height','Weight'])"
   ]
  },
  {
   "cell_type": "code",
   "execution_count": 6,
   "id": "f057a811",
   "metadata": {},
   "outputs": [
    {
     "data": {
      "text/html": [
       "<div>\n",
       "<style scoped>\n",
       "    .dataframe tbody tr th:only-of-type {\n",
       "        vertical-align: middle;\n",
       "    }\n",
       "\n",
       "    .dataframe tbody tr th {\n",
       "        vertical-align: top;\n",
       "    }\n",
       "\n",
       "    .dataframe thead th {\n",
       "        text-align: right;\n",
       "    }\n",
       "</style>\n",
       "<table border=\"1\" class=\"dataframe\">\n",
       "  <thead>\n",
       "    <tr style=\"text-align: right;\">\n",
       "      <th></th>\n",
       "      <th>Height</th>\n",
       "      <th>Weight</th>\n",
       "    </tr>\n",
       "  </thead>\n",
       "  <tbody>\n",
       "    <tr>\n",
       "      <th>0</th>\n",
       "      <td>NaN</td>\n",
       "      <td>NaN</td>\n",
       "    </tr>\n",
       "    <tr>\n",
       "      <th>1</th>\n",
       "      <td>NaN</td>\n",
       "      <td>NaN</td>\n",
       "    </tr>\n",
       "    <tr>\n",
       "      <th>2</th>\n",
       "      <td>NaN</td>\n",
       "      <td>NaN</td>\n",
       "    </tr>\n",
       "    <tr>\n",
       "      <th>3</th>\n",
       "      <td>NaN</td>\n",
       "      <td>NaN</td>\n",
       "    </tr>\n",
       "    <tr>\n",
       "      <th>4</th>\n",
       "      <td>NaN</td>\n",
       "      <td>NaN</td>\n",
       "    </tr>\n",
       "    <tr>\n",
       "      <th>...</th>\n",
       "      <td>...</td>\n",
       "      <td>...</td>\n",
       "    </tr>\n",
       "    <tr>\n",
       "      <th>29995</th>\n",
       "      <td>NaN</td>\n",
       "      <td>NaN</td>\n",
       "    </tr>\n",
       "    <tr>\n",
       "      <th>29996</th>\n",
       "      <td>NaN</td>\n",
       "      <td>NaN</td>\n",
       "    </tr>\n",
       "    <tr>\n",
       "      <th>29997</th>\n",
       "      <td>NaN</td>\n",
       "      <td>NaN</td>\n",
       "    </tr>\n",
       "    <tr>\n",
       "      <th>29998</th>\n",
       "      <td>NaN</td>\n",
       "      <td>NaN</td>\n",
       "    </tr>\n",
       "    <tr>\n",
       "      <th>29999</th>\n",
       "      <td>NaN</td>\n",
       "      <td>NaN</td>\n",
       "    </tr>\n",
       "  </tbody>\n",
       "</table>\n",
       "<p>30000 rows × 2 columns</p>\n",
       "</div>"
      ],
      "text/plain": [
       "      Height Weight\n",
       "0        NaN    NaN\n",
       "1        NaN    NaN\n",
       "2        NaN    NaN\n",
       "3        NaN    NaN\n",
       "4        NaN    NaN\n",
       "...      ...    ...\n",
       "29995    NaN    NaN\n",
       "29996    NaN    NaN\n",
       "29997    NaN    NaN\n",
       "29998    NaN    NaN\n",
       "29999    NaN    NaN\n",
       "\n",
       "[30000 rows x 2 columns]"
      ]
     },
     "execution_count": 6,
     "metadata": {},
     "output_type": "execute_result"
    }
   ],
   "source": [
    "person_df"
   ]
  },
  {
   "cell_type": "code",
   "execution_count": 7,
   "id": "e2ca1866",
   "metadata": {},
   "outputs": [],
   "source": [
    "person_df.Height = np.random.normal(178,10,n)\n",
    "person_df.Weight = np.random.normal(83,7,n)"
   ]
  },
  {
   "cell_type": "code",
   "execution_count": 8,
   "id": "1f24f2fe",
   "metadata": {},
   "outputs": [
    {
     "data": {
      "text/html": [
       "<div>\n",
       "<style scoped>\n",
       "    .dataframe tbody tr th:only-of-type {\n",
       "        vertical-align: middle;\n",
       "    }\n",
       "\n",
       "    .dataframe tbody tr th {\n",
       "        vertical-align: top;\n",
       "    }\n",
       "\n",
       "    .dataframe thead th {\n",
       "        text-align: right;\n",
       "    }\n",
       "</style>\n",
       "<table border=\"1\" class=\"dataframe\">\n",
       "  <thead>\n",
       "    <tr style=\"text-align: right;\">\n",
       "      <th></th>\n",
       "      <th>Height</th>\n",
       "      <th>Weight</th>\n",
       "    </tr>\n",
       "  </thead>\n",
       "  <tbody>\n",
       "    <tr>\n",
       "      <th>0</th>\n",
       "      <td>172.556616</td>\n",
       "      <td>74.380624</td>\n",
       "    </tr>\n",
       "    <tr>\n",
       "      <th>1</th>\n",
       "      <td>169.270587</td>\n",
       "      <td>83.355930</td>\n",
       "    </tr>\n",
       "    <tr>\n",
       "      <th>2</th>\n",
       "      <td>178.547856</td>\n",
       "      <td>80.339274</td>\n",
       "    </tr>\n",
       "    <tr>\n",
       "      <th>3</th>\n",
       "      <td>173.933601</td>\n",
       "      <td>86.496244</td>\n",
       "    </tr>\n",
       "    <tr>\n",
       "      <th>4</th>\n",
       "      <td>184.942304</td>\n",
       "      <td>84.652817</td>\n",
       "    </tr>\n",
       "    <tr>\n",
       "      <th>...</th>\n",
       "      <td>...</td>\n",
       "      <td>...</td>\n",
       "    </tr>\n",
       "    <tr>\n",
       "      <th>29995</th>\n",
       "      <td>168.241289</td>\n",
       "      <td>75.914217</td>\n",
       "    </tr>\n",
       "    <tr>\n",
       "      <th>29996</th>\n",
       "      <td>166.698809</td>\n",
       "      <td>81.083085</td>\n",
       "    </tr>\n",
       "    <tr>\n",
       "      <th>29997</th>\n",
       "      <td>182.960392</td>\n",
       "      <td>77.953182</td>\n",
       "    </tr>\n",
       "    <tr>\n",
       "      <th>29998</th>\n",
       "      <td>174.959291</td>\n",
       "      <td>77.753727</td>\n",
       "    </tr>\n",
       "    <tr>\n",
       "      <th>29999</th>\n",
       "      <td>159.447502</td>\n",
       "      <td>82.860008</td>\n",
       "    </tr>\n",
       "  </tbody>\n",
       "</table>\n",
       "<p>30000 rows × 2 columns</p>\n",
       "</div>"
      ],
      "text/plain": [
       "           Height     Weight\n",
       "0      172.556616  74.380624\n",
       "1      169.270587  83.355930\n",
       "2      178.547856  80.339274\n",
       "3      173.933601  86.496244\n",
       "4      184.942304  84.652817\n",
       "...           ...        ...\n",
       "29995  168.241289  75.914217\n",
       "29996  166.698809  81.083085\n",
       "29997  182.960392  77.953182\n",
       "29998  174.959291  77.753727\n",
       "29999  159.447502  82.860008\n",
       "\n",
       "[30000 rows x 2 columns]"
      ]
     },
     "execution_count": 8,
     "metadata": {},
     "output_type": "execute_result"
    }
   ],
   "source": [
    "person_df"
   ]
  },
  {
   "cell_type": "markdown",
   "id": "812ed2a1",
   "metadata": {},
   "source": [
    "# Calculate BMI for each row:\n",
    "\n",
    "$BMI= \\frac{Weight_kg}{Height_m^{2}}$"
   ]
  },
  {
   "cell_type": "code",
   "execution_count": 9,
   "id": "680fa0bc",
   "metadata": {},
   "outputs": [
    {
     "data": {
      "text/html": [
       "<div>\n",
       "<style scoped>\n",
       "    .dataframe tbody tr th:only-of-type {\n",
       "        vertical-align: middle;\n",
       "    }\n",
       "\n",
       "    .dataframe tbody tr th {\n",
       "        vertical-align: top;\n",
       "    }\n",
       "\n",
       "    .dataframe thead th {\n",
       "        text-align: right;\n",
       "    }\n",
       "</style>\n",
       "<table border=\"1\" class=\"dataframe\">\n",
       "  <thead>\n",
       "    <tr style=\"text-align: right;\">\n",
       "      <th></th>\n",
       "      <th>Height</th>\n",
       "      <th>Weight</th>\n",
       "      <th>BMI</th>\n",
       "    </tr>\n",
       "  </thead>\n",
       "  <tbody>\n",
       "    <tr>\n",
       "      <th>0</th>\n",
       "      <td>172.556616</td>\n",
       "      <td>74.380624</td>\n",
       "      <td>None</td>\n",
       "    </tr>\n",
       "    <tr>\n",
       "      <th>1</th>\n",
       "      <td>169.270587</td>\n",
       "      <td>83.355930</td>\n",
       "      <td>None</td>\n",
       "    </tr>\n",
       "    <tr>\n",
       "      <th>2</th>\n",
       "      <td>178.547856</td>\n",
       "      <td>80.339274</td>\n",
       "      <td>None</td>\n",
       "    </tr>\n",
       "    <tr>\n",
       "      <th>3</th>\n",
       "      <td>173.933601</td>\n",
       "      <td>86.496244</td>\n",
       "      <td>None</td>\n",
       "    </tr>\n",
       "    <tr>\n",
       "      <th>4</th>\n",
       "      <td>184.942304</td>\n",
       "      <td>84.652817</td>\n",
       "      <td>None</td>\n",
       "    </tr>\n",
       "    <tr>\n",
       "      <th>...</th>\n",
       "      <td>...</td>\n",
       "      <td>...</td>\n",
       "      <td>...</td>\n",
       "    </tr>\n",
       "    <tr>\n",
       "      <th>29995</th>\n",
       "      <td>168.241289</td>\n",
       "      <td>75.914217</td>\n",
       "      <td>None</td>\n",
       "    </tr>\n",
       "    <tr>\n",
       "      <th>29996</th>\n",
       "      <td>166.698809</td>\n",
       "      <td>81.083085</td>\n",
       "      <td>None</td>\n",
       "    </tr>\n",
       "    <tr>\n",
       "      <th>29997</th>\n",
       "      <td>182.960392</td>\n",
       "      <td>77.953182</td>\n",
       "      <td>None</td>\n",
       "    </tr>\n",
       "    <tr>\n",
       "      <th>29998</th>\n",
       "      <td>174.959291</td>\n",
       "      <td>77.753727</td>\n",
       "      <td>None</td>\n",
       "    </tr>\n",
       "    <tr>\n",
       "      <th>29999</th>\n",
       "      <td>159.447502</td>\n",
       "      <td>82.860008</td>\n",
       "      <td>None</td>\n",
       "    </tr>\n",
       "  </tbody>\n",
       "</table>\n",
       "<p>30000 rows × 3 columns</p>\n",
       "</div>"
      ],
      "text/plain": [
       "           Height     Weight   BMI\n",
       "0      172.556616  74.380624  None\n",
       "1      169.270587  83.355930  None\n",
       "2      178.547856  80.339274  None\n",
       "3      173.933601  86.496244  None\n",
       "4      184.942304  84.652817  None\n",
       "...           ...        ...   ...\n",
       "29995  168.241289  75.914217  None\n",
       "29996  166.698809  81.083085  None\n",
       "29997  182.960392  77.953182  None\n",
       "29998  174.959291  77.753727  None\n",
       "29999  159.447502  82.860008  None\n",
       "\n",
       "[30000 rows x 3 columns]"
      ]
     },
     "execution_count": 9,
     "metadata": {},
     "output_type": "execute_result"
    }
   ],
   "source": [
    "## Aproach 1 - Use traditional loop\n",
    "person_df['BMI'] = None\n",
    "person_df"
   ]
  },
  {
   "cell_type": "code",
   "execution_count": 10,
   "id": "7407cfc7",
   "metadata": {},
   "outputs": [
    {
     "name": "stdout",
     "output_type": "stream",
     "text": [
      "Wall time: 40.6 s\n"
     ]
    }
   ],
   "source": [
    "%%time\n",
    "\n",
    "for i in range(n):\n",
    "    person_df.loc[i,'BMI'] = person_df.loc[i,'Weight'] / ((person_df.loc[i,'Height']/100)**2) "
   ]
  },
  {
   "cell_type": "code",
   "execution_count": null,
   "id": "6d3d6475",
   "metadata": {},
   "outputs": [],
   "source": [
    "person_df"
   ]
  },
  {
   "cell_type": "code",
   "execution_count": null,
   "id": "7b1efced",
   "metadata": {},
   "outputs": [],
   "source": [
    "## Aproach 2 - Use Pandas Loop"
   ]
  },
  {
   "cell_type": "code",
   "execution_count": 11,
   "id": "37a071c7",
   "metadata": {},
   "outputs": [
    {
     "name": "stdout",
     "output_type": "stream",
     "text": [
      "Wall time: 32.9 s\n"
     ]
    }
   ],
   "source": [
    "%%time\n",
    "\n",
    "for i,row in person_df.iterrows():\n",
    "    person_df.loc[i,'BMI'] = row.Weight / ((row.Height/100)**2) "
   ]
  },
  {
   "cell_type": "code",
   "execution_count": null,
   "id": "a95f1c7d",
   "metadata": {},
   "outputs": [],
   "source": [
    "## Aproach 3 - Apply an explicit function"
   ]
  },
  {
   "cell_type": "code",
   "execution_count": 12,
   "id": "0fcff6bf",
   "metadata": {},
   "outputs": [],
   "source": [
    "def calculateBMI(row):\n",
    "    return row.Weight/((row.Height/100)**2) "
   ]
  },
  {
   "cell_type": "code",
   "execution_count": 13,
   "id": "764de873",
   "metadata": {},
   "outputs": [
    {
     "name": "stdout",
     "output_type": "stream",
     "text": [
      "Wall time: 1.1 s\n"
     ]
    }
   ],
   "source": [
    "%%time\n",
    "person_df['BMI'] = person_df.apply(calculateBMI,axis=1)"
   ]
  },
  {
   "cell_type": "code",
   "execution_count": null,
   "id": "69164015",
   "metadata": {},
   "outputs": [],
   "source": [
    "## Aproach 3 - Apply a lambda function"
   ]
  },
  {
   "cell_type": "code",
   "execution_count": 14,
   "id": "285f9308",
   "metadata": {},
   "outputs": [
    {
     "name": "stdout",
     "output_type": "stream",
     "text": [
      "Wall time: 962 ms\n"
     ]
    }
   ],
   "source": [
    "%%time\n",
    "person_df['BMI'] = person_df.apply(lambda r:r.Weight/((r.Height/100)**2)  ,axis=1)"
   ]
  },
  {
   "cell_type": "code",
   "execution_count": null,
   "id": "472cfe63",
   "metadata": {},
   "outputs": [],
   "source": [
    "## Aproach 4 - Vectorization and Broadcasting"
   ]
  },
  {
   "cell_type": "code",
   "execution_count": 15,
   "id": "c44c58c1",
   "metadata": {},
   "outputs": [
    {
     "name": "stdout",
     "output_type": "stream",
     "text": [
      "Wall time: 2.93 ms\n"
     ]
    }
   ],
   "source": [
    "%%time\n",
    "person_df['BMI'] = person_df.Weight / ((person_df.Height/100)**2) "
   ]
  },
  {
   "cell_type": "code",
   "execution_count": 17,
   "id": "1542a9fb",
   "metadata": {},
   "outputs": [],
   "source": [
    "person_df['Gender'] = np.random.binomial(1,0.4988,n)"
   ]
  },
  {
   "cell_type": "code",
   "execution_count": 18,
   "id": "6307d33c",
   "metadata": {},
   "outputs": [],
   "source": [
    "person_df = person_df.replace({0:'M',1:'F'})"
   ]
  },
  {
   "cell_type": "code",
   "execution_count": 19,
   "id": "80b082e6",
   "metadata": {},
   "outputs": [
    {
     "data": {
      "text/html": [
       "<div>\n",
       "<style scoped>\n",
       "    .dataframe tbody tr th:only-of-type {\n",
       "        vertical-align: middle;\n",
       "    }\n",
       "\n",
       "    .dataframe tbody tr th {\n",
       "        vertical-align: top;\n",
       "    }\n",
       "\n",
       "    .dataframe thead th {\n",
       "        text-align: right;\n",
       "    }\n",
       "</style>\n",
       "<table border=\"1\" class=\"dataframe\">\n",
       "  <thead>\n",
       "    <tr style=\"text-align: right;\">\n",
       "      <th></th>\n",
       "      <th>Height</th>\n",
       "      <th>Weight</th>\n",
       "      <th>BMI</th>\n",
       "      <th>Gender</th>\n",
       "    </tr>\n",
       "  </thead>\n",
       "  <tbody>\n",
       "    <tr>\n",
       "      <th>0</th>\n",
       "      <td>172.556616</td>\n",
       "      <td>74.380624</td>\n",
       "      <td>24.980239</td>\n",
       "      <td>M</td>\n",
       "    </tr>\n",
       "    <tr>\n",
       "      <th>1</th>\n",
       "      <td>169.270587</td>\n",
       "      <td>83.355930</td>\n",
       "      <td>29.091995</td>\n",
       "      <td>F</td>\n",
       "    </tr>\n",
       "    <tr>\n",
       "      <th>2</th>\n",
       "      <td>178.547856</td>\n",
       "      <td>80.339274</td>\n",
       "      <td>25.201049</td>\n",
       "      <td>M</td>\n",
       "    </tr>\n",
       "    <tr>\n",
       "      <th>3</th>\n",
       "      <td>173.933601</td>\n",
       "      <td>86.496244</td>\n",
       "      <td>28.591061</td>\n",
       "      <td>F</td>\n",
       "    </tr>\n",
       "    <tr>\n",
       "      <th>4</th>\n",
       "      <td>184.942304</td>\n",
       "      <td>84.652817</td>\n",
       "      <td>24.749640</td>\n",
       "      <td>F</td>\n",
       "    </tr>\n",
       "    <tr>\n",
       "      <th>...</th>\n",
       "      <td>...</td>\n",
       "      <td>...</td>\n",
       "      <td>...</td>\n",
       "      <td>...</td>\n",
       "    </tr>\n",
       "    <tr>\n",
       "      <th>29995</th>\n",
       "      <td>168.241289</td>\n",
       "      <td>75.914217</td>\n",
       "      <td>26.819949</td>\n",
       "      <td>M</td>\n",
       "    </tr>\n",
       "    <tr>\n",
       "      <th>29996</th>\n",
       "      <td>166.698809</td>\n",
       "      <td>81.083085</td>\n",
       "      <td>29.178655</td>\n",
       "      <td>M</td>\n",
       "    </tr>\n",
       "    <tr>\n",
       "      <th>29997</th>\n",
       "      <td>182.960392</td>\n",
       "      <td>77.953182</td>\n",
       "      <td>23.287329</td>\n",
       "      <td>M</td>\n",
       "    </tr>\n",
       "    <tr>\n",
       "      <th>29998</th>\n",
       "      <td>174.959291</td>\n",
       "      <td>77.753727</td>\n",
       "      <td>25.400788</td>\n",
       "      <td>F</td>\n",
       "    </tr>\n",
       "    <tr>\n",
       "      <th>29999</th>\n",
       "      <td>159.447502</td>\n",
       "      <td>82.860008</td>\n",
       "      <td>32.591889</td>\n",
       "      <td>M</td>\n",
       "    </tr>\n",
       "  </tbody>\n",
       "</table>\n",
       "<p>30000 rows × 4 columns</p>\n",
       "</div>"
      ],
      "text/plain": [
       "           Height     Weight        BMI Gender\n",
       "0      172.556616  74.380624  24.980239      M\n",
       "1      169.270587  83.355930  29.091995      F\n",
       "2      178.547856  80.339274  25.201049      M\n",
       "3      173.933601  86.496244  28.591061      F\n",
       "4      184.942304  84.652817  24.749640      F\n",
       "...           ...        ...        ...    ...\n",
       "29995  168.241289  75.914217  26.819949      M\n",
       "29996  166.698809  81.083085  29.178655      M\n",
       "29997  182.960392  77.953182  23.287329      M\n",
       "29998  174.959291  77.753727  25.400788      F\n",
       "29999  159.447502  82.860008  32.591889      M\n",
       "\n",
       "[30000 rows x 4 columns]"
      ]
     },
     "execution_count": 19,
     "metadata": {},
     "output_type": "execute_result"
    }
   ],
   "source": [
    "person_df"
   ]
  },
  {
   "cell_type": "markdown",
   "id": "6996b58b",
   "metadata": {},
   "source": [
    "# Who is Healthy, underweight and overweight?\n",
    "\n",
    "**Men**:\n",
    "- underweight: $BMI<20$\n",
    "- healthy: $BMI=>20 and <=25$\n",
    "- overweight: $BMI>25$\n",
    "\n",
    "**Women**:\n",
    "- underweight: $BMI<19$\n",
    "- healthy: $BMI=>19 and <=24$\n",
    "- overweight: $BMI>24$"
   ]
  },
  {
   "cell_type": "code",
   "execution_count": 20,
   "id": "2d915d34",
   "metadata": {},
   "outputs": [
    {
     "data": {
      "text/html": [
       "<div>\n",
       "<style scoped>\n",
       "    .dataframe tbody tr th:only-of-type {\n",
       "        vertical-align: middle;\n",
       "    }\n",
       "\n",
       "    .dataframe tbody tr th {\n",
       "        vertical-align: top;\n",
       "    }\n",
       "\n",
       "    .dataframe thead th {\n",
       "        text-align: right;\n",
       "    }\n",
       "</style>\n",
       "<table border=\"1\" class=\"dataframe\">\n",
       "  <thead>\n",
       "    <tr style=\"text-align: right;\">\n",
       "      <th></th>\n",
       "      <th>Height</th>\n",
       "      <th>Weight</th>\n",
       "      <th>BMI</th>\n",
       "      <th>Gender</th>\n",
       "      <th>Status</th>\n",
       "    </tr>\n",
       "  </thead>\n",
       "  <tbody>\n",
       "    <tr>\n",
       "      <th>0</th>\n",
       "      <td>172.556616</td>\n",
       "      <td>74.380624</td>\n",
       "      <td>24.980239</td>\n",
       "      <td>M</td>\n",
       "      <td>None</td>\n",
       "    </tr>\n",
       "    <tr>\n",
       "      <th>1</th>\n",
       "      <td>169.270587</td>\n",
       "      <td>83.355930</td>\n",
       "      <td>29.091995</td>\n",
       "      <td>F</td>\n",
       "      <td>None</td>\n",
       "    </tr>\n",
       "    <tr>\n",
       "      <th>2</th>\n",
       "      <td>178.547856</td>\n",
       "      <td>80.339274</td>\n",
       "      <td>25.201049</td>\n",
       "      <td>M</td>\n",
       "      <td>None</td>\n",
       "    </tr>\n",
       "    <tr>\n",
       "      <th>3</th>\n",
       "      <td>173.933601</td>\n",
       "      <td>86.496244</td>\n",
       "      <td>28.591061</td>\n",
       "      <td>F</td>\n",
       "      <td>None</td>\n",
       "    </tr>\n",
       "    <tr>\n",
       "      <th>4</th>\n",
       "      <td>184.942304</td>\n",
       "      <td>84.652817</td>\n",
       "      <td>24.749640</td>\n",
       "      <td>F</td>\n",
       "      <td>None</td>\n",
       "    </tr>\n",
       "    <tr>\n",
       "      <th>...</th>\n",
       "      <td>...</td>\n",
       "      <td>...</td>\n",
       "      <td>...</td>\n",
       "      <td>...</td>\n",
       "      <td>...</td>\n",
       "    </tr>\n",
       "    <tr>\n",
       "      <th>29995</th>\n",
       "      <td>168.241289</td>\n",
       "      <td>75.914217</td>\n",
       "      <td>26.819949</td>\n",
       "      <td>M</td>\n",
       "      <td>None</td>\n",
       "    </tr>\n",
       "    <tr>\n",
       "      <th>29996</th>\n",
       "      <td>166.698809</td>\n",
       "      <td>81.083085</td>\n",
       "      <td>29.178655</td>\n",
       "      <td>M</td>\n",
       "      <td>None</td>\n",
       "    </tr>\n",
       "    <tr>\n",
       "      <th>29997</th>\n",
       "      <td>182.960392</td>\n",
       "      <td>77.953182</td>\n",
       "      <td>23.287329</td>\n",
       "      <td>M</td>\n",
       "      <td>None</td>\n",
       "    </tr>\n",
       "    <tr>\n",
       "      <th>29998</th>\n",
       "      <td>174.959291</td>\n",
       "      <td>77.753727</td>\n",
       "      <td>25.400788</td>\n",
       "      <td>F</td>\n",
       "      <td>None</td>\n",
       "    </tr>\n",
       "    <tr>\n",
       "      <th>29999</th>\n",
       "      <td>159.447502</td>\n",
       "      <td>82.860008</td>\n",
       "      <td>32.591889</td>\n",
       "      <td>M</td>\n",
       "      <td>None</td>\n",
       "    </tr>\n",
       "  </tbody>\n",
       "</table>\n",
       "<p>30000 rows × 5 columns</p>\n",
       "</div>"
      ],
      "text/plain": [
       "           Height     Weight        BMI Gender Status\n",
       "0      172.556616  74.380624  24.980239      M   None\n",
       "1      169.270587  83.355930  29.091995      F   None\n",
       "2      178.547856  80.339274  25.201049      M   None\n",
       "3      173.933601  86.496244  28.591061      F   None\n",
       "4      184.942304  84.652817  24.749640      F   None\n",
       "...           ...        ...        ...    ...    ...\n",
       "29995  168.241289  75.914217  26.819949      M   None\n",
       "29996  166.698809  81.083085  29.178655      M   None\n",
       "29997  182.960392  77.953182  23.287329      M   None\n",
       "29998  174.959291  77.753727  25.400788      F   None\n",
       "29999  159.447502  82.860008  32.591889      M   None\n",
       "\n",
       "[30000 rows x 5 columns]"
      ]
     },
     "execution_count": 20,
     "metadata": {},
     "output_type": "execute_result"
    }
   ],
   "source": [
    "# Approach 1 \n",
    "person_df['Status'] = None\n",
    "person_df"
   ]
  },
  {
   "cell_type": "code",
   "execution_count": 21,
   "id": "71e24225",
   "metadata": {},
   "outputs": [
    {
     "name": "stdout",
     "output_type": "stream",
     "text": [
      "Wall time: 47.6 s\n"
     ]
    }
   ],
   "source": [
    "%%time\n",
    "\n",
    "for i,row in person_df.iterrows():\n",
    "    if(row.Gender == 'M'):\n",
    "        if(row.BMI<20):\n",
    "            person_df.loc[i,'Status'] = 'U'\n",
    "        elif(row.BMI<=25):\n",
    "            person_df.loc[i,'Status'] = 'H'\n",
    "        else:\n",
    "            person_df.loc[i,'Status'] = 'O'\n",
    "    else:\n",
    "        if(row.BMI<19):\n",
    "            person_df.loc[i,'Status'] = 'U'\n",
    "        elif(row.BMI<=24):\n",
    "            person_df.loc[i,'Status'] = 'H'\n",
    "        else:\n",
    "            person_df.loc[i,'Status'] = 'O'"
   ]
  },
  {
   "cell_type": "code",
   "execution_count": null,
   "id": "41926a77",
   "metadata": {},
   "outputs": [],
   "source": [
    "#Approach 2 Applying"
   ]
  },
  {
   "cell_type": "code",
   "execution_count": 22,
   "id": "3c95316d",
   "metadata": {},
   "outputs": [],
   "source": [
    "def specifyStatus(row):\n",
    "    if(row.Gender == 'M'):\n",
    "        if(row.BMI<20):\n",
    "            return 'U'\n",
    "        elif(row.BMI<=25):\n",
    "            return 'H'\n",
    "        else:\n",
    "            return 'O'\n",
    "    else:\n",
    "        if(row.BMI<19):\n",
    "            return 'U'\n",
    "        elif(row.BMI<=24):\n",
    "            return 'H'\n",
    "        else:\n",
    "            return 'O'"
   ]
  },
  {
   "cell_type": "code",
   "execution_count": 23,
   "id": "a56187fa",
   "metadata": {},
   "outputs": [
    {
     "name": "stdout",
     "output_type": "stream",
     "text": [
      "Wall time: 1.58 s\n"
     ]
    }
   ],
   "source": [
    "%%time\n",
    "person_df['Statu'] = person_df.apply(specifyStatus ,axis=1)"
   ]
  },
  {
   "cell_type": "code",
   "execution_count": null,
   "id": "91eb3e08",
   "metadata": {},
   "outputs": [],
   "source": [
    "#Approach 3 V&B np.where()"
   ]
  },
  {
   "cell_type": "code",
   "execution_count": 24,
   "id": "743838fa",
   "metadata": {},
   "outputs": [
    {
     "name": "stdout",
     "output_type": "stream",
     "text": [
      "Wall time: 6.64 ms\n"
     ]
    }
   ],
   "source": [
    "%%time\n",
    "g = person_df.Gender\n",
    "bmi = person_df.BMI\n",
    "person_df['Status'] = np.where(g=='F',\n",
    "                               np.where(bmi<19,'U',np.where(bmi<=24,'H','O')),\n",
    "                               np.where(bmi<20,'U',np.where(bmi<=25,'H','O')))"
   ]
  },
  {
   "cell_type": "markdown",
   "id": "d92bf0f2",
   "metadata": {},
   "source": [
    "## Avialable operations for V&B\n",
    "\n",
    "- +\n",
    "- -\n",
    "- /\n",
    "- // floor division\n",
    "- % modulo operation\n",
    "- @ matrix multiplication\n",
    "- ** power\n",
    "- '<'\n",
    "- '<='\n",
    "- '>'\n",
    "- '>='\n",
    "- & Binary and\n",
    "- ^ Binary XOR\n",
    "- | binary or"
   ]
  },
  {
   "cell_type": "code",
   "execution_count": null,
   "id": "7363afa9",
   "metadata": {},
   "outputs": [],
   "source": []
  }
 ],
 "metadata": {
  "kernelspec": {
   "display_name": "Python 3 (ipykernel)",
   "language": "python",
   "name": "python3"
  },
  "language_info": {
   "codemirror_mode": {
    "name": "ipython",
    "version": 3
   },
   "file_extension": ".py",
   "mimetype": "text/x-python",
   "name": "python",
   "nbconvert_exporter": "python",
   "pygments_lexer": "ipython3",
   "version": "3.9.13"
  }
 },
 "nbformat": 4,
 "nbformat_minor": 5
}
